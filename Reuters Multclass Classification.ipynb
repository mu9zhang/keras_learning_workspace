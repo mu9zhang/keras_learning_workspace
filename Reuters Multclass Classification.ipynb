{
 "cells": [
  {
   "cell_type": "code",
   "execution_count": 2,
   "metadata": {},
   "outputs": [
    {
     "name": "stdout",
     "output_type": "stream",
     "text": [
      "length:  8982 2246\n",
      "training data 0:  [1, 2, 2, 8, 43, 10, 447, 5, 25, 207, 270, 5, 3095, 111, 16, 369, 186, 90, 67, 7, 89, 5, 19, 102, 6, 19, 124, 15, 90, 67, 84, 22, 482, 26, 7, 48, 4, 49, 8, 864, 39, 209, 154, 6, 151, 6, 83, 11, 15, 22, 155, 11, 15, 7, 48, 9, 4579, 1005, 504, 6, 258, 6, 272, 11, 15, 22, 134, 44, 11, 15, 16, 8, 197, 1245, 90, 67, 52, 29, 209, 30, 32, 132, 6, 109, 15, 17, 12]\n",
      "training label 0:  3\n"
     ]
    }
   ],
   "source": [
    "from keras.datasets import reuters\n",
    "\n",
    "(train_data, train_labels), (test_data, test_labels) = reuters.load_data(num_words=10000)\n",
    "\n",
    "print(\"length: \", len(train_data), len(test_data))\n",
    "print(\"training data 0: \", train_data[0])\n",
    "print(\"training label 0: \", train_labels[0])"
   ]
  },
  {
   "cell_type": "code",
   "execution_count": 3,
   "metadata": {},
   "outputs": [
    {
     "name": "stdout",
     "output_type": "stream",
     "text": [
      "? ? ? said as a result of its december acquisition of space co it expects earnings per share in 1987 of 1 15 to 1 30 dlrs per share up from 70 cts in 1986 the company said pretax net should rise to nine to 10 mln dlrs from six mln dlrs in 1986 and rental operation revenues to 19 to 22 mln dlrs from 12 5 mln dlrs it said cash flow per share this year should be 2 50 to three dlrs reuter 3\n"
     ]
    }
   ],
   "source": [
    "# Decoding newswires back to text\n",
    "\n",
    "word_index = reuters.get_word_index()\n",
    "reverse_word_index = dict([(value, key) for (key, value) in word_index.items()])\n",
    "decoded_newswire =  ' '.join([reverse_word_index.get(i - 3, '?') for i in train_data[0]])\n",
    "\n",
    "print(decoded_newswire)"
   ]
  },
  {
   "cell_type": "code",
   "execution_count": 4,
   "metadata": {},
   "outputs": [],
   "source": [
    "# Prepare the data\n",
    "import numpy as np\n",
    "\n",
    "def vectorize_sequences(sequences, dimension=10000):\n",
    "    results = np.zeros((len(sequences), dimension))\n",
    "    for i, sequence in enumerate(sequences):\n",
    "        results[i, sequence] = 1.\n",
    "    return results\n",
    "\n",
    "x_train = vectorize_sequences(train_data)\n",
    "x_test = vectorize_sequences(test_data)\n",
    "\n",
    "def to_one_hot(labels, dimension=46):\n",
    "    results = np.zeros((len(labels), dimension))\n",
    "    for i, label in enumerate(labels):\n",
    "        results[i, label] = 1.\n",
    "    return results\n",
    "\n",
    "one_hot_train_labels = to_one_hot(train_labels)\n",
    "one_hot_test_labels = to_one_hot(test_labels)\n",
    "\n",
    "# built-in method\n",
    "from keras.utils.np_utils import to_categorical\n",
    "\n",
    "one_hot_train_labels = to_categorical(train_labels)\n",
    "one_hot_test_labels = to_categorical(test_labels)"
   ]
  },
  {
   "cell_type": "code",
   "execution_count": 18,
   "metadata": {},
   "outputs": [
    {
     "name": "stdout",
     "output_type": "stream",
     "text": [
      "[ 3  4  3 ... 25  3 25] (8982,) <class 'numpy.ndarray'> [ 3 10  1 ...  3  3 24] (2246,) <class 'numpy.ndarray'>\n",
      "[ 3  4  3 ... 25  3 25] (8982,) <class 'numpy.ndarray'> [ 3 10  1 ...  3  3 24] (2246,) <class 'numpy.ndarray'>\n"
     ]
    }
   ],
   "source": [
    "\"\"\"\n",
    "With integer labels, you should use sparse_categorical_crossentropy as the choice of loss function. This new loss function\n",
    "is still mathematically the same as categorical_crossentropy; it just has a different interface.\n",
    "\"\"\"\n",
    "\n",
    "(train_data, train_labels), (test_data, test_labels) = reuters.load_data(num_words=10000)\n",
    "y_train_array = np.array(train_labels)\n",
    "y_test_array = np.array(test_labels)\n",
    "\n",
    "print(train_labels,  np.shape(train_labels),  type(train_labels),  test_labels,  np.shape(test_labels),  type(test_labels))\n",
    "print(y_train_array, np.shape(y_train_array), type(y_train_array), y_test_array, np.shape(y_test_array), type(y_test_array))"
   ]
  },
  {
   "cell_type": "code",
   "execution_count": 5,
   "metadata": {},
   "outputs": [
    {
     "name": "stdout",
     "output_type": "stream",
     "text": [
      "Train on 7982 samples, validate on 1000 samples\n",
      "Epoch 1/20\n",
      "7982/7982 [==============================] - 2s 275us/step - loss: 2.5322 - acc: 0.4955 - val_loss: 1.7208 - val_acc: 0.6120\n",
      "Epoch 2/20\n",
      "7982/7982 [==============================] - 1s 87us/step - loss: 1.4452 - acc: 0.6879 - val_loss: 1.3459 - val_acc: 0.7060\n",
      "Epoch 3/20\n",
      "7982/7982 [==============================] - 1s 85us/step - loss: 1.0953 - acc: 0.7651 - val_loss: 1.1708 - val_acc: 0.7430\n",
      "Epoch 4/20\n",
      "7982/7982 [==============================] - 1s 85us/step - loss: 0.8697 - acc: 0.8165 - val_loss: 1.0793 - val_acc: 0.7590\n",
      "Epoch 5/20\n",
      "7982/7982 [==============================] - 1s 85us/step - loss: 0.7034 - acc: 0.8472 - val_loss: 0.9844 - val_acc: 0.7810\n",
      "Epoch 6/20\n",
      "7982/7982 [==============================] - 1s 85us/step - loss: 0.5667 - acc: 0.8802 - val_loss: 0.9411 - val_acc: 0.8040\n",
      "Epoch 7/20\n",
      "7982/7982 [==============================] - 1s 85us/step - loss: 0.4581 - acc: 0.9048 - val_loss: 0.9083 - val_acc: 0.8020\n",
      "Epoch 8/20\n",
      "7982/7982 [==============================] - 1s 86us/step - loss: 0.3695 - acc: 0.9231 - val_loss: 0.9363 - val_acc: 0.7890\n",
      "Epoch 9/20\n",
      "7982/7982 [==============================] - 1s 86us/step - loss: 0.3032 - acc: 0.9315 - val_loss: 0.8917 - val_acc: 0.8090\n",
      "Epoch 10/20\n",
      "7982/7982 [==============================] - 1s 85us/step - loss: 0.2537 - acc: 0.9414 - val_loss: 0.9071 - val_acc: 0.8110\n",
      "Epoch 11/20\n",
      "7982/7982 [==============================] - 1s 85us/step - loss: 0.2187 - acc: 0.9471 - val_loss: 0.9177 - val_acc: 0.8130\n",
      "Epoch 12/20\n",
      "7982/7982 [==============================] - 1s 85us/step - loss: 0.1873 - acc: 0.9508 - val_loss: 0.9027 - val_acc: 0.8130\n",
      "Epoch 13/20\n",
      "7982/7982 [==============================] - 1s 85us/step - loss: 0.1703 - acc: 0.9521 - val_loss: 0.9323 - val_acc: 0.8110\n",
      "Epoch 14/20\n",
      "7982/7982 [==============================] - 1s 85us/step - loss: 0.1536 - acc: 0.9554 - val_loss: 0.9689 - val_acc: 0.8050\n",
      "Epoch 15/20\n",
      "7982/7982 [==============================] - 1s 85us/step - loss: 0.1390 - acc: 0.9560 - val_loss: 0.9686 - val_acc: 0.8150\n",
      "Epoch 16/20\n",
      "7982/7982 [==============================] - 1s 86us/step - loss: 0.1313 - acc: 0.9560 - val_loss: 1.0220 - val_acc: 0.8060\n",
      "Epoch 17/20\n",
      "7982/7982 [==============================] - 1s 86us/step - loss: 0.1217 - acc: 0.9579 - val_loss: 1.0254 - val_acc: 0.7970\n",
      "Epoch 18/20\n",
      "7982/7982 [==============================] - 1s 85us/step - loss: 0.1198 - acc: 0.9582 - val_loss: 1.0430 - val_acc: 0.8060\n",
      "Epoch 19/20\n",
      "7982/7982 [==============================] - 1s 85us/step - loss: 0.1138 - acc: 0.9597 - val_loss: 1.0955 - val_acc: 0.7970\n",
      "Epoch 20/20\n",
      "7982/7982 [==============================] - 1s 86us/step - loss: 0.1111 - acc: 0.9593 - val_loss: 1.0674 - val_acc: 0.8020\n"
     ]
    }
   ],
   "source": [
    "from keras import models\n",
    "from keras import layers\n",
    "\n",
    "# Model definition\n",
    "model = models.Sequential()\n",
    "model.add(layers.Dense(64, activation='relu', input_shape=(10000,)))\n",
    "model.add(layers.Dense(64, activation='relu'))\n",
    "model.add(layers.Dense(46, activation='softmax'))\n",
    "\n",
    "# Compile the model\n",
    "model.compile(optimizer='rmsprop',\n",
    "              loss='categorical_crossentropy',\n",
    "              metrics=['accuracy'])\n",
    "\n",
    "# Setting aside the valida data\n",
    "x_val = x_train[:1000]\n",
    "partial_x_train = x_train[1000:]\n",
    "\n",
    "y_val = one_hot_train_labels[:1000]\n",
    "partial_y_train = one_hot_train_labels[1000:]\n",
    "\n",
    "# Train the model\n",
    "history = model.fit(partial_x_train,\n",
    "                    partial_y_train,\n",
    "                    epochs=20,\n",
    "                    batch_size=512,\n",
    "                    validation_data=(x_val, y_val))"
   ]
  },
  {
   "cell_type": "code",
   "execution_count": 7,
   "metadata": {},
   "outputs": [
    {
     "data": {
      "image/png": "[encoded data removed]",
      "text/plain": [
       "<matplotlib.figure.Figure at 0x7f1ce8238cf8>"
      ]
     },
     "metadata": {},
     "output_type": "display_data"
    }
   ],
   "source": [
    "# Ploting the training and validation loss\n",
    "import matplotlib.pyplot as plt\n",
    "\n",
    "loss = history.history['loss']\n",
    "val_loss = history.history['val_loss']\n",
    "\n",
    "epochs = range(1, len(loss) + 1)\n",
    "\n",
    "plt.plot(epochs, loss, 'bo', label='Training loss')\n",
    "plt.plot(epochs, val_loss, 'b', label='Validation loss')\n",
    "plt.title('Training and validation loss')\n",
    "plt.xlabel('Epochs')\n",
    "plt.ylabel('Loss')\n",
    "plt.legend()\n",
    "plt.show()"
   ]
  },
  {
   "cell_type": "code",
   "execution_count": 8,
   "metadata": {},
   "outputs": [
    {
     "data": {
      "image/png": "[encoded data removed]",
      "text/plain": [
       "<matplotlib.figure.Figure at 0x7f1ce8238c18>"
      ]
     },
     "metadata": {},
     "output_type": "display_data"
    }
   ],
   "source": [
    "plt.clf()\n",
    "\n",
    "acc = history.history['acc']\n",
    "val_acc = history.history['val_acc']\n",
    "\n",
    "epochs = range(1, len(loss) + 1)\n",
    "\n",
    "plt.plot(epochs, acc, 'bo', label='Training accuracy')\n",
    "plt.plot(epochs, val_acc, 'b', label='Validation accuracy')\n",
    "plt.title('Training and validation accuracy')\n",
    "plt.xlabel('Epochs')\n",
    "plt.ylabel('Accuracy')\n",
    "plt.legend()\n",
    "plt.show()"
   ]
  },
  {
   "cell_type": "code",
   "execution_count": 10,
   "metadata": {},
   "outputs": [
    {
     "name": "stdout",
     "output_type": "stream",
     "text": [
      "Train on 7982 samples, validate on 1000 samples\n",
      "Epoch 1/9\n",
      "7982/7982 [==============================] - 1s 110us/step - loss: 2.8046 - acc: 0.5038 - val_loss: 1.8434 - val_acc: 0.6300\n",
      "Epoch 2/9\n",
      "7982/7982 [==============================] - 1s 81us/step - loss: 1.5257 - acc: 0.6957 - val_loss: 1.3306 - val_acc: 0.7110\n",
      "Epoch 3/9\n",
      "7982/7982 [==============================] - 1s 81us/step - loss: 1.1114 - acc: 0.7710 - val_loss: 1.1391 - val_acc: 0.7460\n",
      "Epoch 4/9\n",
      "7982/7982 [==============================] - 1s 80us/step - loss: 0.8715 - acc: 0.8160 - val_loss: 1.0309 - val_acc: 0.7840\n",
      "Epoch 5/9\n",
      "7982/7982 [==============================] - 1s 81us/step - loss: 0.7030 - acc: 0.8477 - val_loss: 0.9683 - val_acc: 0.8020\n",
      "Epoch 6/9\n",
      "7982/7982 [==============================] - 1s 80us/step - loss: 0.5660 - acc: 0.8753 - val_loss: 0.9421 - val_acc: 0.7980\n",
      "Epoch 7/9\n",
      "7982/7982 [==============================] - 1s 80us/step - loss: 0.4567 - acc: 0.9070 - val_loss: 0.9238 - val_acc: 0.7970\n",
      "Epoch 8/9\n",
      "7982/7982 [==============================] - 1s 80us/step - loss: 0.3709 - acc: 0.9235 - val_loss: 0.9692 - val_acc: 0.7930\n",
      "Epoch 9/9\n",
      "7982/7982 [==============================] - 1s 80us/step - loss: 0.3021 - acc: 0.9357 - val_loss: 0.8993 - val_acc: 0.8150\n",
      "2246/2246 [==============================] - 0s 55us/step\n",
      "[0.9790078659516196, 0.789848619715401]\n"
     ]
    }
   ],
   "source": [
    "\"\"\"\n",
    "The neural network begins to overfit after nine epochs. Let’s train a new network from scratch for 9 epochs\n",
    "and then evaluate it on the test set\n",
    "\"\"\"\n",
    "\n",
    "model = models.Sequential()\n",
    "model.add(layers.Dense(64, activation='relu', input_shape=(10000,)))\n",
    "model.add(layers.Dense(64, activation='relu'))\n",
    "model.add(layers.Dense(46, activation='softmax'))\n",
    "\n",
    "model.compile(optimizer='rmsprop',\n",
    "              loss='categorical_crossentropy',\n",
    "              metrics=['accuracy'])\n",
    "\n",
    "model.fit(partial_x_train,\n",
    "          partial_y_train,\n",
    "          epochs=9,\n",
    "          batch_size=512,\n",
    "          validation_data=(x_val, y_val))\n",
    "\n",
    "results = model.evaluate(x_test, one_hot_test_labels)\n",
    "print(results)"
   ]
  },
  {
   "cell_type": "code",
   "execution_count": 12,
   "metadata": {},
   "outputs": [
    {
     "name": "stdout",
     "output_type": "stream",
     "text": [
      "0.19857524487978628\n"
     ]
    }
   ],
   "source": [
    "# Pure random classifier\n",
    "import copy\n",
    "\n",
    "test_label_copy = copy.copy(test_labels)\n",
    "np.random.shuffle(test_label_copy)\n",
    "hits_array = np.array(test_labels) == np.array(test_label_copy)\n",
    "print(float(np.sum(hits_array)) / len(test_labels))"
   ]
  },
  {
   "cell_type": "code",
   "execution_count": 13,
   "metadata": {},
   "outputs": [
    {
     "name": "stdout",
     "output_type": "stream",
     "text": [
      "[8.5719184e-05 2.4996716e-05 9.4314663e-07 9.8640358e-01 9.9298973e-03\n",
      " 5.9935297e-07 2.3874200e-05 2.3013212e-05 2.3117752e-04 9.6469394e-06\n",
      " 3.0606934e-05 1.4633703e-04 4.3361561e-05 7.2926123e-05 2.3711982e-05\n",
      " 9.4637899e-06 2.2908160e-04 3.1090062e-06 1.2971805e-06 3.4364144e-04\n",
      " 6.9634931e-04 6.0048839e-04 2.4142664e-06 1.2873497e-04 2.1346228e-05\n",
      " 9.8519122e-06 9.1157483e-07 1.3968605e-05 4.3646564e-06 2.9517889e-05\n",
      " 2.1927404e-05 2.3864557e-04 2.8983136e-06 1.1310050e-05 3.3330460e-04\n",
      " 8.4673098e-07 3.0448413e-05 6.4117085e-06 1.5544603e-05 1.5666783e-04\n",
      " 2.3043538e-07 1.7298495e-05 3.2042326e-06 1.5070715e-05 1.1121490e-07\n",
      " 1.1559719e-06] (46,) 0.99999994\n",
      "3\n"
     ]
    }
   ],
   "source": [
    "# Generate predictions on new data\n",
    "\n",
    "predictions = model.predict(x_test)\n",
    "print(predictions[0], predictions[0].shape, np.sum(predictions[0]))\n",
    "\n",
    "# The largest entry is the predicted class—the class with the highest probability\n",
    "print(np.argmax(predictions[0]))"
   ]
  },
  {
   "cell_type": "code",
   "execution_count": 19,
   "metadata": {},
   "outputs": [
    {
     "name": "stdout",
     "output_type": "stream",
     "text": [
      "Train on 7982 samples, validate on 1000 samples\n",
      "Epoch 1/20\n",
      "7982/7982 [==============================] - 1s 78us/step - loss: 2.7629 - acc: 0.4734 - val_loss: 1.9887 - val_acc: 0.6020\n",
      "Epoch 2/20\n",
      "7982/7982 [==============================] - 0s 50us/step - loss: 1.6327 - acc: 0.6339 - val_loss: 1.5277 - val_acc: 0.6380\n",
      "Epoch 3/20\n",
      "7982/7982 [==============================] - 0s 50us/step - loss: 1.3069 - acc: 0.6894 - val_loss: 1.3917 - val_acc: 0.6600\n",
      "Epoch 4/20\n",
      "7982/7982 [==============================] - 0s 50us/step - loss: 1.1489 - acc: 0.7223 - val_loss: 1.3313 - val_acc: 0.6760\n",
      "Epoch 5/20\n",
      "7982/7982 [==============================] - 0s 50us/step - loss: 1.0327 - acc: 0.7479 - val_loss: 1.3140 - val_acc: 0.6850\n",
      "Epoch 6/20\n",
      "7982/7982 [==============================] - 0s 50us/step - loss: 0.9385 - acc: 0.7707 - val_loss: 1.2850 - val_acc: 0.7020\n",
      "Epoch 7/20\n",
      "7982/7982 [==============================] - 0s 50us/step - loss: 0.8509 - acc: 0.7909 - val_loss: 1.2912 - val_acc: 0.6990\n",
      "Epoch 8/20\n",
      "7982/7982 [==============================] - 0s 50us/step - loss: 0.7802 - acc: 0.8123 - val_loss: 1.3171 - val_acc: 0.7120\n",
      "Epoch 9/20\n",
      "7982/7982 [==============================] - 0s 50us/step - loss: 0.7166 - acc: 0.8265 - val_loss: 1.3036 - val_acc: 0.7200\n",
      "Epoch 10/20\n",
      "7982/7982 [==============================] - 0s 50us/step - loss: 0.6625 - acc: 0.8309 - val_loss: 1.3421 - val_acc: 0.7200\n",
      "Epoch 11/20\n",
      "7982/7982 [==============================] - 0s 50us/step - loss: 0.6196 - acc: 0.8345 - val_loss: 1.3604 - val_acc: 0.7180\n",
      "Epoch 12/20\n",
      "7982/7982 [==============================] - 0s 50us/step - loss: 0.5773 - acc: 0.8409 - val_loss: 1.3869 - val_acc: 0.7160\n",
      "Epoch 13/20\n",
      "7982/7982 [==============================] - 0s 50us/step - loss: 0.5476 - acc: 0.8462 - val_loss: 1.4315 - val_acc: 0.7180\n",
      "Epoch 14/20\n",
      "7982/7982 [==============================] - 0s 50us/step - loss: 0.5167 - acc: 0.8568 - val_loss: 1.4671 - val_acc: 0.7290\n",
      "Epoch 15/20\n",
      "7982/7982 [==============================] - 0s 50us/step - loss: 0.4873 - acc: 0.8621 - val_loss: 1.5239 - val_acc: 0.7240\n",
      "Epoch 16/20\n",
      "7982/7982 [==============================] - 0s 50us/step - loss: 0.4659 - acc: 0.8715 - val_loss: 1.5535 - val_acc: 0.7240\n",
      "Epoch 17/20\n",
      "7982/7982 [==============================] - 0s 50us/step - loss: 0.4444 - acc: 0.8760 - val_loss: 1.6138 - val_acc: 0.7250\n",
      "Epoch 18/20\n",
      "7982/7982 [==============================] - 0s 50us/step - loss: 0.4264 - acc: 0.8810 - val_loss: 1.6419 - val_acc: 0.7220\n",
      "Epoch 19/20\n",
      "7982/7982 [==============================] - 0s 50us/step - loss: 0.4072 - acc: 0.8864 - val_loss: 1.7400 - val_acc: 0.7110\n",
      "Epoch 20/20\n",
      "7982/7982 [==============================] - 0s 50us/step - loss: 0.3906 - acc: 0.8944 - val_loss: 1.7275 - val_acc: 0.7110\n",
      "2246/2246 [==============================] - 0s 46us/step\n",
      "[1.9357577722622472, 0.6967943009795191]\n"
     ]
    }
   ],
   "source": [
    "\"\"\"\n",
    "The importance of having sufficiently large intermediate layers\n",
    "\n",
    "This drop is mostly due to the fact that you’re trying to compress a lot of information (enough information to recover the separation\n",
    "hyperplanes of 46 classes) into an intermediate space that is too low-dimensional. The network is able to cram most of the necessary\n",
    "information into these eight-dimensional representations, but not all of it.\n",
    "\"\"\"\n",
    "\n",
    "model = models.Sequential()\n",
    "model.add(layers.Dense(64, activation='relu', input_shape=(10000,)))\n",
    "model.add(layers.Dense(4, activation='relu'))\n",
    "model.add(layers.Dense(46, activation='softmax'))\n",
    "\n",
    "model.compile(optimizer='rmsprop',\n",
    "              loss='categorical_crossentropy',\n",
    "              metrics=['accuracy'])\n",
    "\n",
    "model.fit(partial_x_train,\n",
    "          partial_y_train,\n",
    "          epochs=20,\n",
    "          batch_size=128,\n",
    "          validation_data=(x_val, y_val))\n",
    "\n",
    "results = model.evaluate(x_test, one_hot_test_labels)\n",
    "print(results)"
   ]
  },
  {
   "cell_type": "code",
   "execution_count": null,
   "metadata": {},
   "outputs": [],
   "source": [
    "\"\"\"\n",
    "Summaries:\n",
    "\n",
    "\n",
    "1. If you’re trying to classify data points among N classes, your network should end with a Dense layer of size N.\n",
    "\n",
    "2. In a single-label, multiclass classification problem, your network should end with a softmax activation so that it will\n",
    "   output a probability distribution over the N output classes.\n",
    "   \n",
    "3. Categorical crossentropy is almost always the loss function you should use for such problems. It minimizes the distance between\n",
    "   the probability distributions output by the network and the true distribution of the targets.\n",
    "\n",
    "4. There are two ways to handle labels in multiclass classification:\n",
    "   – Encoding the labels via categorical encoding (also known as one-hot encoding) and using categorical_crossentropy as a loss function\n",
    "   – Encoding the labels as integers and using the sparse_categorical_crossentropy loss function\n",
    "   \n",
    "5. If you need to classify data into a large number of categories, you should avoid creating information bottlenecks in your network\n",
    "   due to intermediate layers that are too small. \n",
    "\"\"\""
   ]
  },
  {
   "cell_type": "code",
   "execution_count": null,
   "metadata": {},
   "outputs": [],
   "source": [
    "\n",
    "\n",
    "\n",
    "\n",
    "\n",
    "\n",
    "\n",
    "\n",
    "\n",
    "\n",
    "\n",
    "\n",
    "\n",
    "\n",
    "\n",
    "\n",
    "\n",
    "\n",
    "\n",
    "\n",
    "\n",
    "\n",
    "\n",
    "\n",
    "\n",
    "\n",
    "\n"
   ]
  }
 ],
 "metadata": {
  "kernelspec": {
   "display_name": "Python 3",
   "language": "python",
   "name": "python3"
  },
  "language_info": {
   "codemirror_mode": {
    "name": "ipython",
    "version": 3
   },
   "file_extension": ".py",
   "mimetype": "text/x-python",
   "name": "python",
   "nbconvert_exporter": "python",
   "pygments_lexer": "ipython3",
   "version": "3.6.4"
  }
 },
 "nbformat": 4,
 "nbformat_minor": 2
}
