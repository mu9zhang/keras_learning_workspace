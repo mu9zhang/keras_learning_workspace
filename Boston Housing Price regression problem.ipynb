{
 "cells": [
  {
   "cell_type": "code",
   "execution_count": 1,
   "metadata": {},
   "outputs": [
    {
     "name": "stderr",
     "output_type": "stream",
     "text": [
      "Using TensorFlow backend.\n"
     ]
    },
    {
     "name": "stdout",
     "output_type": "stream",
     "text": [
      "(404, 13) (404,) (102, 13) (102,)\n",
      "[15.2 42.3 50.  21.1 17.7 18.5 11.3 15.6 15.6 14.4]\n"
     ]
    }
   ],
   "source": [
    "from keras.datasets import boston_housing\n",
    "\n",
    "# load data\n",
    "(train_data, train_targets), (test_data, test_targets) = boston_housing.load_data()\n",
    "\n",
    "# 404 training examples, 102 test samples, and 13 numerical features\n",
    "print(train_data.shape, train_targets.shape, test_data.shape, test_targets.shape)\n",
    "\n",
    "# median values of owner-occupied homes, in thousands of dollars\n",
    "print(train_targets[:10])"
   ]
  },
  {
   "cell_type": "code",
   "execution_count": 2,
   "metadata": {},
   "outputs": [],
   "source": [
    "\"\"\"\n",
    "Prepare Data\n",
    "\n",
    "1. It would be problematic to feed into a neural network values that all take wildly different ranges. The network might be able to\n",
    "   automatically adapt to such heterogeneous data, but it would definitely make learning more difficult. A widespread best practice to\n",
    "   deal with such data is to do feature-wise normalization: for each feature in the input data (a column in the input data matrix),\n",
    "   you subtract the mean of the feature and divide by the standard deviation, so that the feature is centered around 0 and has a unit\n",
    "   standard deviation.\n",
    "\n",
    "2. Note that the quantities used for normalizing the test data are computed using the training data. You should never use in your workflow\n",
    "   any quantity computed on the test data, even for something as simple as data normalization.\n",
    "\"\"\"\n",
    "mean = train_data.mean(axis=0)\n",
    "train_data -= mean\n",
    "\n",
    "std = train_data.std(axis=0)\n",
    "train_data /= std\n",
    "\n",
    "test_data -= mean\n",
    "test_data /= std"
   ]
  },
  {
   "cell_type": "code",
   "execution_count": 3,
   "metadata": {},
   "outputs": [],
   "source": [
    "\"\"\"\n",
    "Building the network\n",
    "\n",
    "1. Because so few samples are available, you’ll use a very small network with two hidden layers, each with 64 units. In general,\n",
    "   the less training data you have, the worse overfitting will be, and using a small network is one way to mitigate overfitting.\n",
    "\n",
    "2. The network ends with a single unit and no activation (it will be a linear layer). This is a typical setup for scalar regression\n",
    "   (a regression where you’re trying to predict a single continuous value). Applying an activation function would constrain the range\n",
    "   the output can take; for instance, if you applied a sigmoid activation function to the last layer, the network could only learn to\n",
    "   predict values between 0 and 1. Here, because the last layer is purely linear, the network is free to learn to predict values\n",
    "   in any range.\n",
    "\n",
    "3. Note that you compile the network with the mse loss function—mean squared error, the square of the difference between the predictions\n",
    "   and the targets. This is a widely used loss function for regression problems. You’re also monitoring a new metric during training:\n",
    "   mean absolute error (MAE). It 's the absolute value of the difference between the predictions and the targets. \n",
    "\"\"\"\n",
    "from keras import models\n",
    "from keras import layers\n",
    "\n",
    "def build_model():\n",
    "    model = models.Sequential()\n",
    "    model.add(layers.Dense(64, activation='relu', input_shape=(train_data.shape[1],)))\n",
    "    model.add(layers.Dense(64, activation='relu'))\n",
    "    model.add(layers.Dense(1))\n",
    "    model.compile(optimizer='rmsprop', loss='mse', metrics=['mae'])\n",
    "    return model"
   ]
  },
  {
   "cell_type": "code",
   "execution_count": 8,
   "metadata": {},
   "outputs": [
    {
     "name": "stdout",
     "output_type": "stream",
     "text": [
      "Processing fold # 0\n",
      "Processing fold # 1\n",
      "Processing fold # 2\n",
      "Processing fold # 3\n",
      "[2.511338200899634, 3.138691569318866, 3.023887015805386, 2.9347212385423114]\n",
      "2.9021595061415493\n"
     ]
    }
   ],
   "source": [
    "\"\"\"\n",
    "Validating using K-fold validation\n",
    "\n",
    "1. To evaluate your network while you keep adjusting its parameters (such as the number of epochs used for training), you could\n",
    "   split the data into a training set and a validation set, as you did in the previous examples. But because you have so few data points,\n",
    "   the validation set would end up being very small (for instance, about 100 examples). As a consequence, the validation scores might\n",
    "   change a lot depending on which data points you chose to use for validation and which you chose for training: the validation\n",
    "   scores might have a high variance with regard to the validation split. This would prevent you from reliably evaluating your model.\n",
    "\n",
    "2.  The best practice in such situations is to use K-fold cross-validation. It consists of splitting the available data into K partitions\n",
    "    (typically K = 4 or 5), instantiating K identical models, and training each one on K – 1 partitions while evaluating on the remaining\n",
    "    partition. The validation score for the model used is then the average of the K validation scores obtained. In terms of code,\n",
    "    this is straightforward.\n",
    "\"\"\"\n",
    "import numpy as np\n",
    "\n",
    "k = 4\n",
    "num_val_samples = len(train_data) // k\n",
    "num_epoch = 500\n",
    "all_scores = []\n",
    "all_mae_histories = []\n",
    "\n",
    "for i in range(k):\n",
    "    print('Processing fold #', i)\n",
    "    val_data = train_data[i * num_val_samples: (i + 1) * num_val_samples]\n",
    "    val_targets = train_targets[i * num_val_samples: (i + 1) * num_val_samples]\n",
    "\n",
    "    partial_train_data = np.concatenate([train_data[:i * num_val_samples],\n",
    "                                         train_data[(i + 1)* num_val_samples:]],\n",
    "                                        axis=0)\n",
    "    partial_train_targets = np.concatenate([train_targets[:i * num_val_samples],\n",
    "                                            train_targets[(i + 1)* num_val_samples:]],\n",
    "                                           axis=0)\n",
    "    model = build_model()\n",
    "    history= model.fit(partial_train_data,\n",
    "                       partial_train_targets,\n",
    "                       validation_data=(val_data, val_targets),\n",
    "                       epochs=num_epoch,\n",
    "                       batch_size=1,\n",
    "                       verbose=0)\n",
    "    mae_history = history.history['val_mean_absolute_error']\n",
    "    all_mae_histories.append(mae_history)\n",
    "    val_mse, val_mae = model.evaluate(val_data, val_targets, verbose=0)\n",
    "    all_scores.append(val_mae)\n",
    "\n",
    "print(all_scores)\n",
    "print(np.mean(all_scores))"
   ]
  },
  {
   "cell_type": "code",
   "execution_count": 10,
   "metadata": {},
   "outputs": [
    {
     "data": {
      "image/png": "[encoded data removed]",
      "text/plain": [
       "<matplotlib.figure.Figure at 0x7f05835b8cc0>"
      ]
     },
     "metadata": {},
     "output_type": "display_data"
    }
   ],
   "source": [
    "import matplotlib.pyplot as plt\n",
    "\n",
    "average_mae_history = [np.mean([x[i] for x in all_mae_histories]) for i in range(num_epoch)]\n",
    "\n",
    "plt.plot(range(1, len(average_mae_history) + 1), average_mae_history)\n",
    "plt.xlabel('Epochs')\n",
    "plt.ylabel('Validation MAE')\n",
    "plt.show()"
   ]
  },
  {
   "cell_type": "code",
   "execution_count": 11,
   "metadata": {},
   "outputs": [
    {
     "data": {
      "image/png": "[encoded data removed]",
      "text/plain": [
       "<matplotlib.figure.Figure at 0x7f05835b8128>"
      ]
     },
     "metadata": {},
     "output_type": "display_data"
    }
   ],
   "source": [
    "# validation MAE stops improving significantly after 80 epochs. Past that point, you start overfitting.\n",
    "def smooth_curve(points, factor=0.9):\n",
    "    smoothed_points = []\n",
    "    for point in points:\n",
    "        if smoothed_points:\n",
    "            previous = smoothed_points[-1]\n",
    "            smoothed_points.append(previous * factor + point * (1 - factor))\n",
    "        else:\n",
    "            smoothed_points.append(point)\n",
    "    return smoothed_points\n",
    "\n",
    "smooth_mae_history = smooth_curve(average_mae_history[10:])\n",
    "\n",
    "plt.plot(range(1, len(smooth_mae_history) + 1), smooth_mae_history)\n",
    "plt.xlabel('Epochs')\n",
    "plt.ylabel('Validation MAE')\n",
    "plt.show()"
   ]
  },
  {
   "cell_type": "code",
   "execution_count": 12,
   "metadata": {},
   "outputs": [
    {
     "name": "stdout",
     "output_type": "stream",
     "text": [
      "102/102 [==============================] - 0s 750us/step\n",
      "17.45998098336014 2.6323786810332654\n"
     ]
    }
   ],
   "source": [
    "# Training the final model\n",
    "\n",
    "model = build_model()\n",
    "model.fit(train_data,\n",
    "          train_targets,\n",
    "          epochs=80,\n",
    "          batch_size=16,\n",
    "          verbose=0)\n",
    "test_mse_score, test_mae_score = model.evaluate(test_data, test_targets)\n",
    "print(test_mse_score, test_mae_score)"
   ]
  },
  {
   "cell_type": "code",
   "execution_count": null,
   "metadata": {},
   "outputs": [],
   "source": [
    "\"\"\"\n",
    "Summaries\n",
    "\n",
    "1. Regression is done using different loss functions than what we used for classification. Mean squared error (MSE) is a loss function\n",
    "   commonly used for regression.\n",
    "\n",
    "2. Similarly, evaluation metrics to be used for regression differ from those used for classification; naturally, the concept of accuracy\n",
    "   doesn’t apply for regression. A common regression metric is mean absolute error (MAE).\n",
    "\n",
    "3. When features in the input data have values in different ranges, each feature should be scaled independently as a preprocessing step.\n",
    "\n",
    "4. When there is little data available, using K-fold validation is a great way to reliably evaluate a model.\n",
    "\n",
    "5. When little training data is available, it’s preferable to use a small network with few hidden layers (typically only one or two),\n",
    "   in order to avoid severe overfitting. \n",
    "\"\"\""
   ]
  }
 ],
 "metadata": {
  "kernelspec": {
   "display_name": "Python 3",
   "language": "python",
   "name": "python3"
  },
  "language_info": {
   "codemirror_mode": {
    "name": "ipython",
    "version": 3
   },
   "file_extension": ".py",
   "mimetype": "text/x-python",
   "name": "python",
   "nbconvert_exporter": "python",
   "pygments_lexer": "ipython3",
   "version": "3.6.4"
  }
 },
 "nbformat": 4,
 "nbformat_minor": 2
}
