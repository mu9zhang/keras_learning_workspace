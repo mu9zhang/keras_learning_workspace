{
 "cells": [
  {
   "cell_type": "code",
   "execution_count": null,
   "metadata": {},
   "outputs": [],
   "source": [
    "\"\"\"\n",
    "RNN\n",
    "\n",
    "1. A major characteristic of the neural networks such as densely connected networks and convnets, is that they have no memory.\n",
    "   Each input shown to them is processed independently, with no state kept in between inputs. With such networks, in order to process\n",
    "   a sequence or a temporal series of data points, you have to show the entire sequence to the network at once: turn it into a single\n",
    "   data point. For instance,  in the IMDB example: an entire movie review was transformed into a single large vector and processed\n",
    "   in one go. Such networks are called feedforward networks.\n",
    "\n",
    "2. Biological intelligence processes information incrementally while maintaining an internal model of what it’s processing, built from\n",
    "   past information and constantly updated as new information comes in.\n",
    "\n",
    "3. A recurrent neural network (RNN) adopts the same principle, albeit in an extremely simplified version: it processes sequences by\n",
    "   iterating through the sequence elements and maintaining a state containing information relative to what it has seen so far. In effect,\n",
    "   an RNN is a type of neural network that has an internal loop. The state of the RNN is reset between processing two different, independent\n",
    "   sequences (such as two different IMDB reviews), so you still consider one sequence a single data point: a single input to the network.\n",
    "   What changes is that this data point is no longer processed in a single step; rather, the network internally loops over sequence elements.\n",
    "\"\"\""
   ]
  },
  {
   "cell_type": "code",
   "execution_count": 1,
   "metadata": {},
   "outputs": [
    {
     "name": "stdout",
     "output_type": "stream",
     "text": [
      "[0.99999994 0.99999999 0.99999998 ... 1.         1.         1.        ]\n"
     ]
    }
   ],
   "source": [
    "\"\"\"\n",
    "NumPy version of RNN\n",
    "\n",
    "The RNN takes as input a sequence of vectors, which you’ll encode as a 2D tensor of size (timesteps, input_features). It loops over\n",
    "timesteps, and at each timestep, it considers its current state at t and the input at t (of shape (input_features,), and combines them to\n",
    "obtain the output at t. You’ll then set the state for the next step to be this previous output. For the first timestep, the previous\n",
    "output isn’t defined; hence, there is no current state. So, you’ll initialize the state as an allzero vector called the initial\n",
    "state of the network.\n",
    "\"\"\"\n",
    "import numpy as np\n",
    "\n",
    "timesteps = 100\n",
    "input_features = 32\n",
    "output_features = 64\n",
    "\n",
    "# input data\n",
    "inputs = np.random.random((timesteps, input_features))\n",
    "\n",
    "# inital vector\n",
    "state_t = np.zeros((output_features,))\n",
    "\n",
    "# weight matrix\n",
    "W = np.random.random((output_features, input_features))\n",
    "U = np.random.random((output_features, output_features))\n",
    "b = np.random.random((output_features,))\n",
    "\n",
    "# rnn\n",
    "successive_outputs = []\n",
    "for input_t in inputs:\n",
    "    output_t = np.tanh(np.dot(W, input_t) + np.dot(U, state_t) + b)\n",
    "    successive_outputs.append(output_t)\n",
    "    state_t = output_t\n",
    "\n",
    "final_output_sequence = np.concatenate(successive_outputs, axis=0)\n",
    "print(final_output_sequence)"
   ]
  },
  {
   "cell_type": "code",
   "execution_count": 2,
   "metadata": {},
   "outputs": [
    {
     "name": "stderr",
     "output_type": "stream",
     "text": [
      "Using TensorFlow backend.\n"
     ]
    },
    {
     "name": "stdout",
     "output_type": "stream",
     "text": [
      "_________________________________________________________________\n",
      "Layer (type)                 Output Shape              Param #   \n",
      "=================================================================\n",
      "embedding_1 (Embedding)      (None, None, 32)          320000    \n",
      "_________________________________________________________________\n",
      "simple_rnn_1 (SimpleRNN)     (None, 32)                2080      \n",
      "=================================================================\n",
      "Total params: 322,080\n",
      "Trainable params: 322,080\n",
      "Non-trainable params: 0\n",
      "_________________________________________________________________\n",
      "None\n",
      "_________________________________________________________________\n",
      "Layer (type)                 Output Shape              Param #   \n",
      "=================================================================\n",
      "embedding_2 (Embedding)      (None, None, 32)          320000    \n",
      "_________________________________________________________________\n",
      "simple_rnn_2 (SimpleRNN)     (None, None, 32)          2080      \n",
      "=================================================================\n",
      "Total params: 322,080\n",
      "Trainable params: 322,080\n",
      "Non-trainable params: 0\n",
      "_________________________________________________________________\n",
      "None\n",
      "_________________________________________________________________\n",
      "Layer (type)                 Output Shape              Param #   \n",
      "=================================================================\n",
      "embedding_3 (Embedding)      (None, None, 32)          320000    \n",
      "_________________________________________________________________\n",
      "simple_rnn_3 (SimpleRNN)     (None, None, 32)          2080      \n",
      "_________________________________________________________________\n",
      "simple_rnn_4 (SimpleRNN)     (None, None, 32)          2080      \n",
      "_________________________________________________________________\n",
      "simple_rnn_5 (SimpleRNN)     (None, None, 32)          2080      \n",
      "_________________________________________________________________\n",
      "simple_rnn_6 (SimpleRNN)     (None, 32)                2080      \n",
      "=================================================================\n",
      "Total params: 328,320\n",
      "Trainable params: 328,320\n",
      "Non-trainable params: 0\n",
      "_________________________________________________________________\n",
      "None\n"
     ]
    }
   ],
   "source": [
    "\"\"\"\n",
    "A recurrent layer in Keras\n",
    "\n",
    "1. There is one minor difference: SimpleRNN processes batches of sequences, like all other Keras layers, not a single sequence as\n",
    "   in the Numpy example. This means it takes inputs of shape (batch_size, timesteps, input_features), rather than\n",
    "   (timesteps, input_features). Like all recurrent layers in Keras, SimpleRNN can be run in two different modes: it can return either\n",
    "   the full sequences of successive outputs for each timestep (a 3D tensor of shape (batch_size, timesteps, output_features))\n",
    "   or only the last output for each input sequence (a 2D tensor of shape (batch_size, output_features)).\n",
    "   These two modes are controlled by the return_sequences constructor argument.\n",
    "\n",
    "2. It’s sometimes useful to stack several recurrent layers one after the other in order to increase the representational power of a network. \n",
    "\"\"\"\n",
    "from keras.models import Sequential\n",
    "from keras.layers import Embedding, SimpleRNN\n",
    "\n",
    "# last output for each input sequence\n",
    "model = Sequential()\n",
    "model.add(Embedding(10000, 32))\n",
    "model.add(SimpleRNN(32))\n",
    "print(model.summary())\n",
    "\n",
    "# full sequences of successive outputs for each timestep\n",
    "model = Sequential()\n",
    "model.add(Embedding(10000, 32))\n",
    "model.add(SimpleRNN(32, return_sequences=True))\n",
    "print(model.summary())\n",
    "\n",
    "# stack several recurrent layers\n",
    "model = Sequential()\n",
    "model.add(Embedding(10000, 32))\n",
    "model.add(SimpleRNN(32, return_sequences=True))\n",
    "model.add(SimpleRNN(32, return_sequences=True))\n",
    "model.add(SimpleRNN(32, return_sequences=True))\n",
    "model.add(SimpleRNN(32)) # last layer only returns the last output\n",
    "print(model.summary())"
   ]
  },
  {
   "cell_type": "code",
   "execution_count": 3,
   "metadata": {},
   "outputs": [
    {
     "name": "stdout",
     "output_type": "stream",
     "text": [
      "Loading data...\n",
      "25000 train sequences\n",
      "25000 test sequences\n",
      "Pad sequences (samples x time)\n",
      "input_train shape: (25000, 500)\n",
      "input_test shape: (25000, 500)\n"
     ]
    }
   ],
   "source": [
    "\"\"\"\n",
    "IMDB moive-review-classification using simplernn (1)\n",
    "\"\"\"\n",
    "from keras.datasets import imdb\n",
    "from keras.preprocessing import sequence\n",
    "\n",
    "max_features = 10000\n",
    "maxlen = 500\n",
    "batch_size = 32\n",
    "\n",
    "print('Loading data...')\n",
    "(input_train, y_train), (input_test, y_test) = imdb.load_data(num_words=max_features)\n",
    "print(len(input_train), 'train sequences')\n",
    "print(len(input_test), 'test sequences')\n",
    "\n",
    "print('Pad sequences (samples x time)')\n",
    "input_train = sequence.pad_sequences(input_train, maxlen=maxlen)\n",
    "input_test = sequence.pad_sequences(input_test, maxlen=maxlen)\n",
    "print('input_train shape:', input_train.shape)\n",
    "print('input_test shape:', input_test.shape)"
   ]
  },
  {
   "cell_type": "code",
   "execution_count": 5,
   "metadata": {},
   "outputs": [
    {
     "name": "stdout",
     "output_type": "stream",
     "text": [
      "Train on 20000 samples, validate on 5000 samples\n",
      "Epoch 1/10\n",
      "20000/20000 [==============================] - 16s 779us/step - loss: 0.6215 - acc: 0.6402 - val_loss: 0.5519 - val_acc: 0.7226\n",
      "Epoch 2/10\n",
      "20000/20000 [==============================] - 15s 764us/step - loss: 0.3936 - acc: 0.8352 - val_loss: 0.3666 - val_acc: 0.8472\n",
      "Epoch 3/10\n",
      "20000/20000 [==============================] - 15s 768us/step - loss: 0.2900 - acc: 0.8842 - val_loss: 0.3706 - val_acc: 0.8478\n",
      "Epoch 4/10\n",
      "20000/20000 [==============================] - 15s 764us/step - loss: 0.2152 - acc: 0.9195 - val_loss: 0.4439 - val_acc: 0.7896\n",
      "Epoch 5/10\n",
      "20000/20000 [==============================] - 15s 762us/step - loss: 0.1555 - acc: 0.9428 - val_loss: 0.4055 - val_acc: 0.8294\n",
      "Epoch 6/10\n",
      "20000/20000 [==============================] - 15s 764us/step - loss: 0.1032 - acc: 0.9655 - val_loss: 0.4045 - val_acc: 0.8662\n",
      "Epoch 7/10\n",
      "20000/20000 [==============================] - 15s 767us/step - loss: 0.0692 - acc: 0.9786 - val_loss: 0.4977 - val_acc: 0.8456\n",
      "Epoch 8/10\n",
      "20000/20000 [==============================] - 15s 764us/step - loss: 0.0426 - acc: 0.9867 - val_loss: 0.5106 - val_acc: 0.8404\n",
      "Epoch 9/10\n",
      "20000/20000 [==============================] - 15s 760us/step - loss: 0.0268 - acc: 0.9931 - val_loss: 0.5148 - val_acc: 0.8514\n",
      "Epoch 10/10\n",
      "20000/20000 [==============================] - 15s 763us/step - loss: 0.0185 - acc: 0.9944 - val_loss: 0.6072 - val_acc: 0.8246\n"
     ]
    },
    {
     "data": {
      "image/png": "[encoded data removed]",
      "text/plain": [
       "<matplotlib.figure.Figure at 0x7f21e465dc88>"
      ]
     },
     "metadata": {},
     "output_type": "display_data"
    },
    {
     "data": {
      "image/png": "[encoded data removed]",
      "text/plain": [
       "<matplotlib.figure.Figure at 0x7f21e43debe0>"
      ]
     },
     "metadata": {},
     "output_type": "display_data"
    }
   ],
   "source": [
    "\"\"\"\n",
    "IMDB moive-review-classification using simplernn (2)\n",
    "\"\"\"\n",
    "from keras.layers import Dense\n",
    "import matplotlib.pyplot as plt\n",
    "\n",
    "model = Sequential()\n",
    "model.add(Embedding(max_features, 32))\n",
    "model.add(SimpleRNN(32))\n",
    "model.add(Dense(1, activation='sigmoid'))\n",
    "\n",
    "model.compile(optimizer='rmsprop',\n",
    "              loss='binary_crossentropy',\n",
    "              metrics=['acc'])\n",
    "\n",
    "history = model.fit(input_train, y_train,\n",
    "                    epochs=10,\n",
    "                    batch_size=128,\n",
    "                    validation_split=0.2)\n",
    "\n",
    "acc = history.history['acc']\n",
    "val_acc = history.history['val_acc']\n",
    "loss = history.history['loss']\n",
    "val_loss = history.history['val_loss']\n",
    "\n",
    "epochs = range(1, len(acc) + 1)\n",
    "plt.plot(epochs, acc, 'bo', label='Training acc')\n",
    "plt.plot(epochs, val_acc, 'b', label='Validation acc')\n",
    "plt.title('Training and validation accuracy')\n",
    "plt.legend()\n",
    "plt.figure()\n",
    "\n",
    "plt.plot(epochs, loss, 'bo', label='Training loss')\n",
    "plt.plot(epochs, val_loss, 'b', label='Validation loss')\n",
    "plt.title('Training and validation loss')\n",
    "plt.legend()\n",
    "plt.show()"
   ]
  },
  {
   "cell_type": "code",
   "execution_count": null,
   "metadata": {},
   "outputs": [],
   "source": [
    "\"\"\"\n",
    "LSTM & GRU\n",
    "\n",
    "\n",
    "1. SimpleRNN isn’t the only recurrent layer available in Keras. There are two others: LSTM and GRU. In practice, you’ll always use\n",
    "   one of these, because SimpleRNN is generally too simplistic to be of real use. SimpleRNN has a major issue: although it should\n",
    "   theoretically be able to retain at time t information about inputs seen many timesteps before, in practice, such long-term dependencies\n",
    "   are impossible to learn. This is due to the vanishing gradient problem, an effect that is similar to what is observed with\n",
    "   non-recurrent networks (feedforward networks) that are many layers deep: as you keep adding layers to a network,\n",
    "   the network eventually becomes untrainable.\n",
    "\n",
    "2. The LSTM layer is a variant of the SimpleRNN layer you already know about; it adds a way to carry information across many timesteps.\n",
    "   Imagine a conveyor belt running parallel to the sequence you’re processing. Information from the sequence can jump onto the\n",
    "   conveyor belt at any point, be transported to a later timestep, and jump off, intact, when you need it. This is essentially what\n",
    "   LSTM does: it saves information for later, thus preventing older signals from gradually vanishing during processing.\n",
    "\n",
    "3. An additional data flow that carries information across timesteps. Call its values at different timesteps Ct, where C stands for carry.\n",
    "   This information will have the following impact on the cell: it will be combined with the input connection and the recurrent connection\n",
    "   (via a dense transformation: a dot product with a weight matrix followed by a bias add and the application of an activation function),\n",
    "   and it will affect the state being sent to the next timestep (via an activation function an a multiplication operation). Conceptually,\n",
    "   the carry dataflow is a way to modulate the next output and the next state.\n",
    "\n",
    "4. Pseudocode details of the LSTM:\n",
    "   -- output_t = activation(dot(state_t, Uo) + dot(input_t, Wo) + dot(C_t, Vo) + bo)\n",
    "   -- i_t = activation(dot(state_t, Ui) + dot(input_t, Wi) + bi)\n",
    "      f_t = activation(dot(state_t, Uf) + dot(input_t, Wf) + bf)\n",
    "      k_t = activation(dot(state_t, Uk) + dot(input_t, Wk) + bk)\n",
    "   -- c_t+1 = i_t * k_t + c_t * f_t\n",
    "\n",
    "5.  You can say that multiplying c_t and f_t is a way to deliberately forget irrelevant information in the carry dataflow. Meanwhile,\n",
    "    i_t and k_t provide information about the present, updating the carry track with new information. But at the end of the day, these\n",
    "    interpretations don’t mean much, because what these operations actually do is determined by the contents of the weights parameterizing\n",
    "    them; and the weights are learned in an end-to-end fashion, starting over with each training round, making it impossible to credit\n",
    "    this or that operation with a specific purpose. The specification of an RNN cell determines your hypothesis space—the space in which\n",
    "    you’ll search for a good model configuration during training—but it doesn’t determine what the cell does; that is up to the cell\n",
    "    weights. The same cell with different weights can be doing very different things. So the combination of operations making up an RNN\n",
    "    cell is better interpreted as a set of constraints on your search, not as a design in an engineering sense.\n",
    "\n",
    "6.  To a researcher, it seems that the choice of such constraints—the question of how to implement RNN cells—is better left to optimization\n",
    "    algorithms (like genetic algorithms or reinforcement learning processes) than to human engineers. And in the future, that’s how we’ll\n",
    "    build networks. In summary: you don’t need to understand anything about the specific architecture of an LSTM cell; as a human,\n",
    "    it shouldn’t be your job to understand it. Just keep in mind what the LSTM cell is meant to do: allow past information to be\n",
    "    reinjected at a later time, thus fighting the vanishing-gradient problem. \n",
    "\"\"\""
   ]
  },
  {
   "cell_type": "code",
   "execution_count": 6,
   "metadata": {},
   "outputs": [
    {
     "name": "stdout",
     "output_type": "stream",
     "text": [
      "Train on 20000 samples, validate on 5000 samples\n",
      "Epoch 1/10\n",
      "20000/20000 [==============================] - 69s 3ms/step - loss: 0.5057 - acc: 0.7608 - val_loss: 0.3195 - val_acc: 0.8768\n",
      "Epoch 2/10\n",
      "20000/20000 [==============================] - 68s 3ms/step - loss: 0.2896 - acc: 0.8876 - val_loss: 0.3574 - val_acc: 0.8450\n",
      "Epoch 3/10\n",
      "20000/20000 [==============================] - 68s 3ms/step - loss: 0.2329 - acc: 0.9124 - val_loss: 0.3850 - val_acc: 0.8526\n",
      "Epoch 4/10\n",
      "20000/20000 [==============================] - 68s 3ms/step - loss: 0.2026 - acc: 0.9248 - val_loss: 0.2929 - val_acc: 0.8796\n",
      "Epoch 5/10\n",
      "20000/20000 [==============================] - 68s 3ms/step - loss: 0.1728 - acc: 0.9368 - val_loss: 0.3363 - val_acc: 0.8776\n",
      "Epoch 6/10\n",
      "20000/20000 [==============================] - 68s 3ms/step - loss: 0.1598 - acc: 0.9419 - val_loss: 0.3413 - val_acc: 0.8494\n",
      "Epoch 7/10\n",
      "20000/20000 [==============================] - 68s 3ms/step - loss: 0.1436 - acc: 0.9500 - val_loss: 0.3710 - val_acc: 0.8374\n",
      "Epoch 8/10\n",
      "20000/20000 [==============================] - 68s 3ms/step - loss: 0.1343 - acc: 0.9534 - val_loss: 0.3609 - val_acc: 0.8872\n",
      "Epoch 9/10\n",
      "20000/20000 [==============================] - 68s 3ms/step - loss: 0.1252 - acc: 0.9556 - val_loss: 0.3561 - val_acc: 0.8588\n",
      "Epoch 10/10\n",
      "20000/20000 [==============================] - 69s 3ms/step - loss: 0.1174 - acc: 0.9593 - val_loss: 0.3723 - val_acc: 0.8648\n"
     ]
    },
    {
     "data": {
      "image/png": "[encoded data removed]",
      "text/plain": [
       "<matplotlib.figure.Figure at 0x7f21e3b8e080>"
      ]
     },
     "metadata": {},
     "output_type": "display_data"
    },
    {
     "data": {
      "image/png": "[encoded data removed]",
      "text/plain": [
       "<matplotlib.figure.Figure at 0x7f21c875f780>"
      ]
     },
     "metadata": {},
     "output_type": "display_data"
    }
   ],
   "source": [
    "\"\"\"\n",
    "LSTM in Keras\n",
    "\n",
    "The network is similar to the one with SimpleRNN that was just presented. You only specify the output dimensionality of the LSTM layer;\n",
    "leave every other argument (there are many) at the Keras defaults.\n",
    "\"\"\"\n",
    "from keras.layers import LSTM\n",
    "\n",
    "model = Sequential()\n",
    "model.add(Embedding(max_features, 32))\n",
    "model.add(LSTM(32))\n",
    "model.add(Dense(1, activation='sigmoid'))\n",
    "\n",
    "model.compile(optimizer='rmsprop',\n",
    "              loss='binary_crossentropy',\n",
    "              metrics=['acc'])\n",
    "\n",
    "history = model.fit(input_train, y_train,\n",
    "                    epochs=10,\n",
    "                    batch_size=128,\n",
    "                    validation_split=0.2)\n",
    "\n",
    "acc = history.history['acc']\n",
    "val_acc = history.history['val_acc']\n",
    "loss = history.history['loss']\n",
    "val_loss = history.history['val_loss']\n",
    "\n",
    "epochs = range(1, len(acc) + 1)\n",
    "plt.plot(epochs, acc, 'bo', label='Training acc')\n",
    "plt.plot(epochs, val_acc, 'b', label='Validation acc')\n",
    "plt.title('Training and validation accuracy')\n",
    "plt.legend()\n",
    "plt.figure()\n",
    "\n",
    "plt.plot(epochs, loss, 'bo', label='Training loss')\n",
    "plt.plot(epochs, val_loss, 'b', label='Validation loss')\n",
    "plt.title('Training and validation loss')\n",
    "plt.legend()\n",
    "plt.show()"
   ]
  },
  {
   "cell_type": "code",
   "execution_count": null,
   "metadata": {},
   "outputs": [],
   "source": [
    "\"\"\"\n",
    "The result isn’t groundbreaking for such a computationally intensive approach. Why isn’t LSTM performing better? One reason is that\n",
    "you made no effort to tune hyperparameters such as the embeddings dimensionality or the LSTM output dimensionality. Another may be lack\n",
    "of regularization. But honestly, the primary reason is that analyzing the global, long-term structure of the reviews (what LSTM is good\n",
    "at) isn’t helpful for a sentiment-analysis problem. Such a basic problem is well solved by looking at what words occur in each review,\n",
    "and at what frequency. That’s what the first fully connected approach looked at. But there are far more difficult natural language\n",
    "processing problems out there, where the strength of LSTM will become apparent: in particular, question-answering and machine translation.\n",
    "\n",
    "\"\"\""
   ]
  },
  {
   "cell_type": "code",
   "execution_count": null,
   "metadata": {},
   "outputs": [],
   "source": []
  }
 ],
 "metadata": {
  "kernelspec": {
   "display_name": "Python 3",
   "language": "python",
   "name": "python3"
  },
  "language_info": {
   "codemirror_mode": {
    "name": "ipython",
    "version": 3
   },
   "file_extension": ".py",
   "mimetype": "text/x-python",
   "name": "python",
   "nbconvert_exporter": "python",
   "pygments_lexer": "ipython3",
   "version": "3.6.4"
  }
 },
 "nbformat": 4,
 "nbformat_minor": 2
}
