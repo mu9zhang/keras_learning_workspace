{
 "cells": [
  {
   "cell_type": "code",
   "execution_count": 1,
   "metadata": {},
   "outputs": [
    {
     "name": "stderr",
     "output_type": "stream",
     "text": [
      "Using TensorFlow backend.\n"
     ]
    },
    {
     "name": "stdout",
     "output_type": "stream",
     "text": [
      "(60000, 28, 28)\n",
      "[5 0 4 ... 5 6 8]\n",
      "(10000, 28, 28)\n",
      "[7 2 1 ... 4 5 6]\n",
      "Epoch 1/5\n",
      "60000/60000 [==============================] - 2s 40us/step - loss: 0.2589 - acc: 0.9254\n",
      "Epoch 2/5\n",
      "60000/60000 [==============================] - 1s 12us/step - loss: 0.1029 - acc: 0.9693\n",
      "Epoch 3/5\n",
      "60000/60000 [==============================] - 1s 12us/step - loss: 0.0680 - acc: 0.9797\n",
      "Epoch 4/5\n",
      "60000/60000 [==============================] - 1s 12us/step - loss: 0.0490 - acc: 0.9853\n",
      "Epoch 5/5\n",
      "60000/60000 [==============================] - 1s 12us/step - loss: 0.0374 - acc: 0.9889\n",
      "10000/10000 [==============================] - 0s 21us/step\n",
      "test result:  0.06965903874915093 0.9786\n"
     ]
    }
   ],
   "source": [
    "from keras.datasets import mnist\n",
    "from keras import models\n",
    "from keras import layers\n",
    "from keras.utils import to_categorical\n",
    "\n",
    "# load the mnist dataset\n",
    "(train_images, train_labels), (test_images, test_labels) = mnist.load_data()\n",
    "\n",
    "# look at data\n",
    "print(train_images.shape)\n",
    "print(train_labels)\n",
    "print(test_images.shape)\n",
    "print(test_labels)\n",
    "\n",
    "# build network architecture\n",
    "network = models.Sequential()\n",
    "network.add(layers.Dense(512, activation='relu', input_shape=(28 * 28,)))\n",
    "network.add(layers.Dense(10, activation='softmax'))\n",
    "\n",
    "# compilation step: loss function, optimizer, metrics\n",
    "network.compile(optimizer='rmsprop',\n",
    "                loss='categorical_crossentropy',\n",
    "                metrics=['accuracy'])\n",
    "\n",
    "# Before training, we’ll preprocess the data by reshaping it into the shape the network\n",
    "# expects and scaling it so that all values are in the [0, 1] interval\n",
    "train_images = train_images.reshape((60000, 28 * 28))\n",
    "train_images = train_images.astype('float32') / 255\n",
    "test_images  = test_images.reshape((10000, 28 * 28))\n",
    "test_images  = test_images.astype('float32') / 255\n",
    "\n",
    "# prepare the label\n",
    "train_labels = to_categorical(train_labels)\n",
    "test_labels  = to_categorical(test_labels)\n",
    "\n",
    "# train\n",
    "network.fit(train_images, train_labels, epochs=5, batch_size=128)\n",
    "\n",
    "# test\n",
    "test_loss, test_acc = network.evaluate(test_images, test_labels)\n",
    "print(\"test result: \", test_loss, test_acc)"
   ]
  },
  {
   "cell_type": "code",
   "execution_count": 3,
   "metadata": {},
   "outputs": [
    {
     "name": "stdout",
     "output_type": "stream",
     "text": [
      "_________________________________________________________________\n",
      "Layer (type)                 Output Shape              Param #   \n",
      "=================================================================\n",
      "dense_1 (Dense)              (None, 512)               401920    \n",
      "_________________________________________________________________\n",
      "dense_2 (Dense)              (None, 10)                5130      \n",
      "=================================================================\n",
      "Total params: 407,050\n",
      "Trainable params: 407,050\n",
      "Non-trainable params: 0\n",
      "_________________________________________________________________\n",
      "None\n"
     ]
    }
   ],
   "source": [
    "print(network.summary())"
   ]
  },
  {
   "cell_type": "code",
   "execution_count": 9,
   "metadata": {},
   "outputs": [
    {
     "data": {
      "image/png": "[encoded data removed]",
      "text/plain": [
       "<matplotlib.figure.Figure at 0x7f270804e198>"
      ]
     },
     "metadata": {},
     "output_type": "display_data"
    }
   ],
   "source": [
    "import matplotlib.pyplot as plt\n",
    "\n",
    "(train_images, train_labels), (test_images, test_labels) = mnist.load_data()\n",
    "digit = train_images[4]\n",
    "plt.imshow(digit, cmap=plt.cm.binary)\n",
    "plt.show()"
   ]
  },
  {
   "cell_type": "code",
   "execution_count": 2,
   "metadata": {},
   "outputs": [
    {
     "name": "stdout",
     "output_type": "stream",
     "text": [
      "0D:  12 0 ()\n",
      "1D:  [12  3  6 14] 1 (4,)\n",
      "2D:  [[ 5 78  2 34  0]\n",
      " [ 6 79  3 35  1]\n",
      " [ 7 80  4 36  2]] 2 (3, 5)\n",
      "3D:  [[[ 5 78  2 34  0]\n",
      "  [ 6 79  3 35  1]\n",
      "  [ 7 80  4 36  2]]\n",
      "\n",
      " [[ 5 78  2 34  0]\n",
      "  [ 6 79  3 35  1]\n",
      "  [ 7 80  4 36  2]]\n",
      "\n",
      " [[ 5 78  2 34  0]\n",
      "  [ 6 79  3 35  1]\n",
      "  [ 7 80  4 36  2]]] 3 (3, 3, 5)\n"
     ]
    }
   ],
   "source": [
    "import numpy as np\n",
    "\n",
    "# scalars (0D tensors)\n",
    "x = np.array(12)\n",
    "print(\"0D: \", x, x.ndim, np.shape(x))\n",
    "\n",
    "# vectors (1D tensors)\n",
    "y = np.array([12, 3, 6, 14])\n",
    "print(\"1D: \", y, y.ndim, np.shape(y))\n",
    "\n",
    "# matrices (2D tensors)\n",
    "z = np.array([[5, 78, 2, 34, 0],\n",
    "              [6, 79, 3, 35, 1],\n",
    "              [7, 80, 4, 36, 2]])\n",
    "print(\"2D: \", z, z.ndim, np.shape(z))\n",
    "\n",
    "# 3D tensors and higher-dimensional tensors\n",
    "k = np.array([[[5, 78, 2, 34, 0],\n",
    "               [6, 79, 3, 35, 1],\n",
    "               [7, 80, 4, 36, 2]],\n",
    "              [[5, 78, 2, 34, 0],\n",
    "               [6, 79, 3, 35, 1],\n",
    "               [7, 80, 4, 36, 2]],\n",
    "              [[5, 78, 2, 34, 0],\n",
    "               [6, 79, 3, 35, 1],\n",
    "               [7, 80, 4, 36, 2]]])\n",
    "print(\"3D: \", k, k.ndim, np.shape(k))"
   ]
  },
  {
   "cell_type": "code",
   "execution_count": 12,
   "metadata": {},
   "outputs": [
    {
     "name": "stdout",
     "output_type": "stream",
     "text": [
      "(90, 28, 28) (90, 28, 28) (90, 28, 28)\n",
      "(60000, 14, 14) (60000, 14, 17)\n"
     ]
    }
   ],
   "source": [
    "#  Selecting specific elements in a tensor is called tensor slicing\n",
    "my_slice1 = train_images[10:100]\n",
    "my_slice2 = train_images[10:100, :, :]\n",
    "my_slice3 = train_images[10:100, 0:28, 0:28]\n",
    "print(my_slice1.shape, my_slice2.shape, my_slice3.shape)\n",
    "\n",
    "my_slice4 = train_images[:, 14:, 14:]\n",
    "my_slice5 = train_images[:,7:-7, 7:-4]\n",
    "print(my_slice4.shape, my_slice5.shape)\n",
    "\n",
    "# In general, the first axis (axis 0) in all data tensors you’ll come across in deep learning will be the samples axis, \n",
    "# sometimes called the samples dimension. In addition, deep-learning models don’t process an entire dataset at once; rather,\n",
    "# they break the data into small batches\n",
    "batch = train_images[:128]"
   ]
  },
  {
   "cell_type": "code",
   "execution_count": 5,
   "metadata": {},
   "outputs": [
    {
     "name": "stdout",
     "output_type": "stream",
     "text": [
      "(64, 3, 32, 10)\n",
      "[[0. 1.]\n",
      " [2. 3.]\n",
      " [4. 5.]] (3, 2)\n",
      "[[0.]\n",
      " [1.]\n",
      " [2.]\n",
      " [3.]\n",
      " [4.]\n",
      " [5.]] (6, 1)\n",
      "(20, 300)\n"
     ]
    }
   ],
   "source": [
    "# 1. Elementwise Operations\n",
    "def naive_relu(x):\n",
    "    assert len(x.shape) == 2\n",
    "    x = x.copy() # Avoid overwriting the input tensor.\n",
    "    for i in range(x.shape[0]):\n",
    "        for j in range(x.shape[1]):\n",
    "            x[i, j] = max(x[i, j], 0)\n",
    "    return x\n",
    "\n",
    "def naive_add(x, y):\n",
    "    assert len(x.shape) == 2\n",
    "    assert x.shape == y.shape\n",
    "    x = x.copy()\n",
    "    for i in range(x.shape[0]):\n",
    "        for j in range(x.shape[1]):\n",
    "            x[i, j] += y[i, j]\n",
    "    return x\n",
    "\n",
    "x = np.random.random((32, 1))\n",
    "y = np.random.random((32, 1))\n",
    "z = x + y\n",
    "z = np.maximum(z, 0.)\n",
    "\n",
    "\"\"\"\n",
    "2. Broadcasting\n",
    "   -- Broadcasting consists of two steps:\n",
    "      (1) Axes (called broadcast axes) are added to the smaller tensor to match the ndim of the larger tensor.\n",
    "      (2) The smaller tensor is repeated alongside these new axes to match the full shape of the larger tensor.\n",
    "   -- Example: Consider X with shape (32, 10) and y with shape (10,). First, we add an empty first axis to y, whose shape becomes (1, 10).\n",
    "      Then, we repeat y 32 times alongside this new axis, so that we end up with a tensor Y with shape (32, 10), where Y[i, :] == y\n",
    "      for i in range(0, 32). At this point, we can proceed to add X and Y, because they have the same shape.\n",
    "   -- With broadcasting, you can generally apply two-tensor element-wise operations if one tensor has shape (a, b, … n, n + 1, … m)\n",
    "      and the other has shape (n, n + 1, … m). The broadcasting will then automatically happen for axes a through n - 1.\n",
    "\"\"\"\n",
    "def naive_add_matrix_and_vector(x, y):\n",
    "    assert len(x.shape) == 2\n",
    "    assert len(y.shape) == 1\n",
    "    assert x.shape[1] == y.shape[0]\n",
    "    x = x.copy()\n",
    "    for i in range(x.shape[0]):\n",
    "        for j in range(x.shape[1]):\n",
    "            x[i, j] += y[j]\n",
    "    return x\n",
    "\n",
    "x = np.random.random((64, 3, 32, 10))\n",
    "y = np.random.random((32, 10))\n",
    "z = np.maximum(x, y)\n",
    "print(z.shape)\n",
    "\n",
    "\n",
    "\"\"\"\n",
    "3. Tensor Dot\n",
    "   You can take the dot product between higher-dimensional tensors, following the same rules for shape compatibility\n",
    "   as outlined earlier for the 2D case.\n",
    "   (a, b, c, d) . (d,) -> (a, b, c)           (a, b, c, d) . (d, e) -> (a, b, c, e)\n",
    "\"\"\"\n",
    "def naive_vector_dot(x, y):\n",
    "    assert len(x.shape) == 1\n",
    "    assert len(y.shape) == 1\n",
    "    assert x.shape[0] == y.shape[0]\n",
    "    z = 0.\n",
    "    for i in range(x.shape[0]):\n",
    "        z += x[i] * y[i]\n",
    "    return z\n",
    "\n",
    "def naive_matrix_vector_dot1(x, y):\n",
    "    assert len(x.shape) == 2\n",
    "    assert len(y.shape) == 1\n",
    "    assert x.shape[1] == y.shape[0]\n",
    "    z = np.zeros(x.shape[0])\n",
    "    for i in range(x.shape[0]):\n",
    "        for j in range(x.shape[1]):\n",
    "            z[i] += x[i, j] * y[j]\n",
    "    return z\n",
    "\n",
    "def naive_matrix_vector_dot2(x, y):\n",
    "    z = np.zeros(x.shape[0])\n",
    "    for i in range(x.shape[0]):\n",
    "        z[i] = naive_vector_dot(x[i, :], y)\n",
    "\n",
    "def naive_matrix_vector_dot(x, y):\n",
    "    assert len(x.shape) == 2\n",
    "    assert len(y.shape) == 2\n",
    "    assert x.shape[1] == y.shape[0]\n",
    "\n",
    "    z = np.zeros((x.shape[0], y.shape[1]))\n",
    "    for i in range(x.shape[0]):\n",
    "        for j in range(y.shape[1]):\n",
    "            row_x = x[i, :]\n",
    "            column_y = y[:, j]\n",
    "            z[i, j] = naive_vector_dot(row_x, column_y)\n",
    "    return z\n",
    "\n",
    "# 4. Tensor Reshape\n",
    "x = np.array([[0., 1.], [2., 3.], [4., 5.]])\n",
    "print(x, x.shape)\n",
    "x = x.reshape((6, 1))\n",
    "print(x, x.shape)\n",
    "\n",
    "y = np.zeros((300, 20))\n",
    "y = np.transpose(y)\n",
    "print(y.shape)\n",
    "\n",
    "\"\"\"\n",
    "5. Geometric interpretation of tensor operations\n",
    "   -- Because the contents of the tensors manipulated by tensor operations can be interpreted as coordinates of points in some geometric\n",
    "      space, all tensor operations have a geometric interpretation.\n",
    "   -- In general, elementary geometric operations such as affine transformations, rotations, scaling, and so on can be expressed as tensor\n",
    "      operations.\n",
    "   -- You just learned that neural networks consist entirely of chains of tensor operations and that all of these tensor operations are\n",
    "      just geometric transformations of the input data. It follows that you can interpret a neural network as a very complex geometric\n",
    "      transformation in a high-dimensional space, implemented via a long series of simple steps.\n",
    "\"\"\"\n"
   ]
  },
  {
   "cell_type": "code",
   "execution_count": null,
   "metadata": {},
   "outputs": [],
   "source": []
  }
 ],
 "metadata": {
  "kernelspec": {
   "display_name": "Python 3",
   "language": "python",
   "name": "python3"
  },
  "language_info": {
   "codemirror_mode": {
    "name": "ipython",
    "version": 3
   },
   "file_extension": ".py",
   "mimetype": "text/x-python",
   "name": "python",
   "nbconvert_exporter": "python",
   "pygments_lexer": "ipython3",
   "version": "3.6.4"
  }
 },
 "nbformat": 4,
 "nbformat_minor": 2
}
